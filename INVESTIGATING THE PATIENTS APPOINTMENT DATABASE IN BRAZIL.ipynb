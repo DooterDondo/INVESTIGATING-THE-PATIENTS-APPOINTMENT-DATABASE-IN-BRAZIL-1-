{
 "cells": [
  {
   "cell_type": "markdown",
   "id": "049c83f7",
   "metadata": {},
   "source": [
    "Project: Investigate the Patient Medical Appointment Database in Brazil for May 2016\n",
    "Table of content\n",
    "1. Introduction\n",
    "2. Data Wrangling\n",
    "3. Exploratory Data Analysis\n",
    "4. Conclusions"
   ]
  },
  {
   "cell_type": "markdown",
   "id": "cb7bb0fa",
   "metadata": {},
   "source": [
    "1. Introduction: This is a dataset that contains details of patients scheduled for a medical appointments. In this analysis, I intend to investigate why a patient is likely not to show up for their appointment based on the following reasons:\n",
    "i. If or not they are on Scholarship which means they are enrolled in the Brazillian welfer program.\n",
    "ii. If or not the patient is handicaped.\n",
    "iii. If or not they received a reminder via sms.\n",
    "iv. Age of the patient.\n",
    "v. Location of the patient.\n",
    "iv. The day of the week, the appoitment was."
   ]
  },
  {
   "cell_type": "markdown",
   "id": "2406bebf",
   "metadata": {},
   "source": [
    "QUESTIONS ANSWERED IN THIS ANALYSIS INCLUDE:\n",
    "1. Is the Scholarship status of a patient likely to affect whether or not they show up for their appointment."
   ]
  },
  {
   "cell_type": "markdown",
   "id": "24e1428b",
   "metadata": {},
   "source": [
    "2. Does being handicapped have an effect on whether a patient will attend their appoitment or miss it?."
   ]
  },
  {
   "cell_type": "markdown",
   "id": "00e57cea",
   "metadata": {},
   "source": [
    "3. Does receiving an sms reminder notification affect whether or not a patient will show up for their appoitment?"
   ]
  },
  {
   "cell_type": "markdown",
   "id": "c3706287",
   "metadata": {},
   "source": [
    "4. Does age have any bearing as to whether or not a patient show up for their appoitment?"
   ]
  },
  {
   "cell_type": "markdown",
   "id": "2a0d2c35",
   "metadata": {},
   "source": [
    "5. Does the location of a patient have any bearing on whether or not they show up for their appoitment?"
   ]
  },
  {
   "cell_type": "markdown",
   "id": "cea61744",
   "metadata": {},
   "source": [
    "6. Does the day of appoitment have any impact on whether or not the patient show up for their medical appointment?"
   ]
  },
  {
   "cell_type": "code",
   "execution_count": 217,
   "id": "351a9620",
   "metadata": {},
   "outputs": [],
   "source": [
    "#Importing all packages I intend to use:\n",
    "import pandas as pd\n",
    "import numpy as np\n",
    "import seaborn as sns\n",
    "import matplotlib.pyplot\n",
    "%matplotlib inline"
   ]
  },
  {
   "cell_type": "code",
   "execution_count": 218,
   "id": "b0c07e13",
   "metadata": {},
   "outputs": [],
   "source": [
    "# Reading the database\n",
    "\n",
    "# load the dataset\n",
    "df_patient = pd.read_csv('C:/Users/doote/Downloads/noshowappointments.csv')"
   ]
  },
  {
   "cell_type": "markdown",
   "id": "571b9ba4",
   "metadata": {},
   "source": [
    "2. Data Wrangling: At this stage, I will explore the data to understand it better and also to fix any possible issues such as missing values, wrong data types, etc."
   ]
  },
  {
   "cell_type": "code",
   "execution_count": 219,
   "id": "f046cfe7",
   "metadata": {},
   "outputs": [
    {
     "data": {
      "text/html": [
       "<div>\n",
       "<style scoped>\n",
       "    .dataframe tbody tr th:only-of-type {\n",
       "        vertical-align: middle;\n",
       "    }\n",
       "\n",
       "    .dataframe tbody tr th {\n",
       "        vertical-align: top;\n",
       "    }\n",
       "\n",
       "    .dataframe thead th {\n",
       "        text-align: right;\n",
       "    }\n",
       "</style>\n",
       "<table border=\"1\" class=\"dataframe\">\n",
       "  <thead>\n",
       "    <tr style=\"text-align: right;\">\n",
       "      <th></th>\n",
       "      <th>PatientId</th>\n",
       "      <th>AppointmentID</th>\n",
       "      <th>Gender</th>\n",
       "      <th>ScheduledDay</th>\n",
       "      <th>AppointmentDay</th>\n",
       "      <th>Age</th>\n",
       "      <th>Neighbourhood</th>\n",
       "      <th>Scholarship</th>\n",
       "      <th>Hipertension</th>\n",
       "      <th>Diabetes</th>\n",
       "      <th>Alcoholism</th>\n",
       "      <th>Handcap</th>\n",
       "      <th>SMS_received</th>\n",
       "      <th>No-show</th>\n",
       "    </tr>\n",
       "  </thead>\n",
       "  <tbody>\n",
       "    <tr>\n",
       "      <th>0</th>\n",
       "      <td>2.987250e+13</td>\n",
       "      <td>5642903</td>\n",
       "      <td>F</td>\n",
       "      <td>2016-04-29T18:38:08Z</td>\n",
       "      <td>2016-04-29T00:00:00Z</td>\n",
       "      <td>62</td>\n",
       "      <td>JARDIM DA PENHA</td>\n",
       "      <td>0</td>\n",
       "      <td>1</td>\n",
       "      <td>0</td>\n",
       "      <td>0</td>\n",
       "      <td>0</td>\n",
       "      <td>0</td>\n",
       "      <td>No</td>\n",
       "    </tr>\n",
       "    <tr>\n",
       "      <th>1</th>\n",
       "      <td>5.589978e+14</td>\n",
       "      <td>5642503</td>\n",
       "      <td>M</td>\n",
       "      <td>2016-04-29T16:08:27Z</td>\n",
       "      <td>2016-04-29T00:00:00Z</td>\n",
       "      <td>56</td>\n",
       "      <td>JARDIM DA PENHA</td>\n",
       "      <td>0</td>\n",
       "      <td>0</td>\n",
       "      <td>0</td>\n",
       "      <td>0</td>\n",
       "      <td>0</td>\n",
       "      <td>0</td>\n",
       "      <td>No</td>\n",
       "    </tr>\n",
       "    <tr>\n",
       "      <th>2</th>\n",
       "      <td>4.262962e+12</td>\n",
       "      <td>5642549</td>\n",
       "      <td>F</td>\n",
       "      <td>2016-04-29T16:19:04Z</td>\n",
       "      <td>2016-04-29T00:00:00Z</td>\n",
       "      <td>62</td>\n",
       "      <td>MATA DA PRAIA</td>\n",
       "      <td>0</td>\n",
       "      <td>0</td>\n",
       "      <td>0</td>\n",
       "      <td>0</td>\n",
       "      <td>0</td>\n",
       "      <td>0</td>\n",
       "      <td>No</td>\n",
       "    </tr>\n",
       "    <tr>\n",
       "      <th>3</th>\n",
       "      <td>8.679512e+11</td>\n",
       "      <td>5642828</td>\n",
       "      <td>F</td>\n",
       "      <td>2016-04-29T17:29:31Z</td>\n",
       "      <td>2016-04-29T00:00:00Z</td>\n",
       "      <td>8</td>\n",
       "      <td>PONTAL DE CAMBURI</td>\n",
       "      <td>0</td>\n",
       "      <td>0</td>\n",
       "      <td>0</td>\n",
       "      <td>0</td>\n",
       "      <td>0</td>\n",
       "      <td>0</td>\n",
       "      <td>No</td>\n",
       "    </tr>\n",
       "    <tr>\n",
       "      <th>4</th>\n",
       "      <td>8.841186e+12</td>\n",
       "      <td>5642494</td>\n",
       "      <td>F</td>\n",
       "      <td>2016-04-29T16:07:23Z</td>\n",
       "      <td>2016-04-29T00:00:00Z</td>\n",
       "      <td>56</td>\n",
       "      <td>JARDIM DA PENHA</td>\n",
       "      <td>0</td>\n",
       "      <td>1</td>\n",
       "      <td>1</td>\n",
       "      <td>0</td>\n",
       "      <td>0</td>\n",
       "      <td>0</td>\n",
       "      <td>No</td>\n",
       "    </tr>\n",
       "    <tr>\n",
       "      <th>...</th>\n",
       "      <td>...</td>\n",
       "      <td>...</td>\n",
       "      <td>...</td>\n",
       "      <td>...</td>\n",
       "      <td>...</td>\n",
       "      <td>...</td>\n",
       "      <td>...</td>\n",
       "      <td>...</td>\n",
       "      <td>...</td>\n",
       "      <td>...</td>\n",
       "      <td>...</td>\n",
       "      <td>...</td>\n",
       "      <td>...</td>\n",
       "      <td>...</td>\n",
       "    </tr>\n",
       "    <tr>\n",
       "      <th>110522</th>\n",
       "      <td>2.572134e+12</td>\n",
       "      <td>5651768</td>\n",
       "      <td>F</td>\n",
       "      <td>2016-05-03T09:15:35Z</td>\n",
       "      <td>2016-06-07T00:00:00Z</td>\n",
       "      <td>56</td>\n",
       "      <td>MARIA ORTIZ</td>\n",
       "      <td>0</td>\n",
       "      <td>0</td>\n",
       "      <td>0</td>\n",
       "      <td>0</td>\n",
       "      <td>0</td>\n",
       "      <td>1</td>\n",
       "      <td>No</td>\n",
       "    </tr>\n",
       "    <tr>\n",
       "      <th>110523</th>\n",
       "      <td>3.596266e+12</td>\n",
       "      <td>5650093</td>\n",
       "      <td>F</td>\n",
       "      <td>2016-05-03T07:27:33Z</td>\n",
       "      <td>2016-06-07T00:00:00Z</td>\n",
       "      <td>51</td>\n",
       "      <td>MARIA ORTIZ</td>\n",
       "      <td>0</td>\n",
       "      <td>0</td>\n",
       "      <td>0</td>\n",
       "      <td>0</td>\n",
       "      <td>0</td>\n",
       "      <td>1</td>\n",
       "      <td>No</td>\n",
       "    </tr>\n",
       "    <tr>\n",
       "      <th>110524</th>\n",
       "      <td>1.557663e+13</td>\n",
       "      <td>5630692</td>\n",
       "      <td>F</td>\n",
       "      <td>2016-04-27T16:03:52Z</td>\n",
       "      <td>2016-06-07T00:00:00Z</td>\n",
       "      <td>21</td>\n",
       "      <td>MARIA ORTIZ</td>\n",
       "      <td>0</td>\n",
       "      <td>0</td>\n",
       "      <td>0</td>\n",
       "      <td>0</td>\n",
       "      <td>0</td>\n",
       "      <td>1</td>\n",
       "      <td>No</td>\n",
       "    </tr>\n",
       "    <tr>\n",
       "      <th>110525</th>\n",
       "      <td>9.213493e+13</td>\n",
       "      <td>5630323</td>\n",
       "      <td>F</td>\n",
       "      <td>2016-04-27T15:09:23Z</td>\n",
       "      <td>2016-06-07T00:00:00Z</td>\n",
       "      <td>38</td>\n",
       "      <td>MARIA ORTIZ</td>\n",
       "      <td>0</td>\n",
       "      <td>0</td>\n",
       "      <td>0</td>\n",
       "      <td>0</td>\n",
       "      <td>0</td>\n",
       "      <td>1</td>\n",
       "      <td>No</td>\n",
       "    </tr>\n",
       "    <tr>\n",
       "      <th>110526</th>\n",
       "      <td>3.775115e+14</td>\n",
       "      <td>5629448</td>\n",
       "      <td>F</td>\n",
       "      <td>2016-04-27T13:30:56Z</td>\n",
       "      <td>2016-06-07T00:00:00Z</td>\n",
       "      <td>54</td>\n",
       "      <td>MARIA ORTIZ</td>\n",
       "      <td>0</td>\n",
       "      <td>0</td>\n",
       "      <td>0</td>\n",
       "      <td>0</td>\n",
       "      <td>0</td>\n",
       "      <td>1</td>\n",
       "      <td>No</td>\n",
       "    </tr>\n",
       "  </tbody>\n",
       "</table>\n",
       "<p>110527 rows × 14 columns</p>\n",
       "</div>"
      ],
      "text/plain": [
       "           PatientId  AppointmentID Gender          ScheduledDay  \\\n",
       "0       2.987250e+13        5642903      F  2016-04-29T18:38:08Z   \n",
       "1       5.589978e+14        5642503      M  2016-04-29T16:08:27Z   \n",
       "2       4.262962e+12        5642549      F  2016-04-29T16:19:04Z   \n",
       "3       8.679512e+11        5642828      F  2016-04-29T17:29:31Z   \n",
       "4       8.841186e+12        5642494      F  2016-04-29T16:07:23Z   \n",
       "...              ...            ...    ...                   ...   \n",
       "110522  2.572134e+12        5651768      F  2016-05-03T09:15:35Z   \n",
       "110523  3.596266e+12        5650093      F  2016-05-03T07:27:33Z   \n",
       "110524  1.557663e+13        5630692      F  2016-04-27T16:03:52Z   \n",
       "110525  9.213493e+13        5630323      F  2016-04-27T15:09:23Z   \n",
       "110526  3.775115e+14        5629448      F  2016-04-27T13:30:56Z   \n",
       "\n",
       "              AppointmentDay  Age      Neighbourhood  Scholarship  \\\n",
       "0       2016-04-29T00:00:00Z   62    JARDIM DA PENHA            0   \n",
       "1       2016-04-29T00:00:00Z   56    JARDIM DA PENHA            0   \n",
       "2       2016-04-29T00:00:00Z   62      MATA DA PRAIA            0   \n",
       "3       2016-04-29T00:00:00Z    8  PONTAL DE CAMBURI            0   \n",
       "4       2016-04-29T00:00:00Z   56    JARDIM DA PENHA            0   \n",
       "...                      ...  ...                ...          ...   \n",
       "110522  2016-06-07T00:00:00Z   56        MARIA ORTIZ            0   \n",
       "110523  2016-06-07T00:00:00Z   51        MARIA ORTIZ            0   \n",
       "110524  2016-06-07T00:00:00Z   21        MARIA ORTIZ            0   \n",
       "110525  2016-06-07T00:00:00Z   38        MARIA ORTIZ            0   \n",
       "110526  2016-06-07T00:00:00Z   54        MARIA ORTIZ            0   \n",
       "\n",
       "        Hipertension  Diabetes  Alcoholism  Handcap  SMS_received No-show  \n",
       "0                  1         0           0        0             0      No  \n",
       "1                  0         0           0        0             0      No  \n",
       "2                  0         0           0        0             0      No  \n",
       "3                  0         0           0        0             0      No  \n",
       "4                  1         1           0        0             0      No  \n",
       "...              ...       ...         ...      ...           ...     ...  \n",
       "110522             0         0           0        0             1      No  \n",
       "110523             0         0           0        0             1      No  \n",
       "110524             0         0           0        0             1      No  \n",
       "110525             0         0           0        0             1      No  \n",
       "110526             0         0           0        0             1      No  \n",
       "\n",
       "[110527 rows x 14 columns]"
      ]
     },
     "execution_count": 219,
     "metadata": {},
     "output_type": "execute_result"
    }
   ],
   "source": [
    "# Getting an over view of the dataset\n",
    "\n",
    "df_patient"
   ]
  },
  {
   "cell_type": "code",
   "execution_count": 220,
   "id": "3e5219a2",
   "metadata": {},
   "outputs": [
    {
     "data": {
      "text/plain": [
       "0"
      ]
     },
     "execution_count": 220,
     "metadata": {},
     "output_type": "execute_result"
    }
   ],
   "source": [
    "# Examining the data set for duplicates\n",
    "\n",
    "df_patient.duplicated().sum()\n"
   ]
  },
  {
   "cell_type": "code",
   "execution_count": 221,
   "id": "9141c796",
   "metadata": {},
   "outputs": [
    {
     "data": {
      "text/plain": [
       "PatientId         0\n",
       "AppointmentID     0\n",
       "Gender            0\n",
       "ScheduledDay      0\n",
       "AppointmentDay    0\n",
       "Age               0\n",
       "Neighbourhood     0\n",
       "Scholarship       0\n",
       "Hipertension      0\n",
       "Diabetes          0\n",
       "Alcoholism        0\n",
       "Handcap           0\n",
       "SMS_received      0\n",
       "No-show           0\n",
       "dtype: int64"
      ]
     },
     "execution_count": 221,
     "metadata": {},
     "output_type": "execute_result"
    }
   ],
   "source": [
    "# Examining the data set for missing values\n",
    "df_patient.isnull().sum()"
   ]
  },
  {
   "cell_type": "code",
   "execution_count": 222,
   "id": "0af31c0b",
   "metadata": {},
   "outputs": [
    {
     "data": {
      "text/plain": [
       "81"
      ]
     },
     "execution_count": 222,
     "metadata": {},
     "output_type": "execute_result"
    }
   ],
   "source": [
    "# Examining the dataset for number of unique entries\n",
    "df_patient['Neighbourhood'].nunique()"
   ]
  },
  {
   "cell_type": "code",
   "execution_count": 223,
   "id": "4ea23e2a",
   "metadata": {},
   "outputs": [
    {
     "data": {
      "text/plain": [
       "PatientId         float64\n",
       "AppointmentID       int64\n",
       "Gender             object\n",
       "ScheduledDay       object\n",
       "AppointmentDay     object\n",
       "Age                 int64\n",
       "Neighbourhood      object\n",
       "Scholarship         int64\n",
       "Hipertension        int64\n",
       "Diabetes            int64\n",
       "Alcoholism          int64\n",
       "Handcap             int64\n",
       "SMS_received        int64\n",
       "No-show            object\n",
       "dtype: object"
      ]
     },
     "execution_count": 223,
     "metadata": {},
     "output_type": "execute_result"
    }
   ],
   "source": [
    "# Let us find out the data types for each column\n",
    "\n",
    "df_patient.dtypes"
   ]
  },
  {
   "cell_type": "code",
   "execution_count": 224,
   "id": "312e5c1f",
   "metadata": {},
   "outputs": [],
   "source": [
    "# Change the Handcap column name to Handicaped\n",
    "\n",
    "df_patient.rename(columns = {'Handcap': 'Handicaped'}, inplace = True)"
   ]
  },
  {
   "cell_type": "markdown",
   "id": "8dd12dc2",
   "metadata": {},
   "source": [
    "Defining Useful Functions"
   ]
  },
  {
   "cell_type": "code",
   "execution_count": 225,
   "id": "34571bc7",
   "metadata": {},
   "outputs": [],
   "source": [
    "# defining a plot function to be used to plot my charts\n",
    "def Pie_chart_plot_1():\n",
    "    return df_patient['SMS_received'].value_counts().plot(kind='pie', autopct='%.0f%%', title = 'SMS - Reminders')"
   ]
  },
  {
   "cell_type": "code",
   "execution_count": 226,
   "id": "f391ff83",
   "metadata": {},
   "outputs": [],
   "source": [
    "def Pie_chart_plot_2():\n",
    "    return group_neighbour_largest.plot(x='Neighbourhood', y='countin', kind = 'pie', fontsize = 10, autopct='%.0f%%', title = 'Patient Locations');\n"
   ]
  },
  {
   "cell_type": "code",
   "execution_count": 227,
   "id": "12f1868e",
   "metadata": {},
   "outputs": [],
   "source": [
    "def Pie_chart_plot_3():\n",
    "    return group_neighbour_lowest.plot(x='Neighbourhood', y='countin', kind = 'pie', fontsize = 10, autopct='%.0f%%', title = 'Patient locations');"
   ]
  },
  {
   "cell_type": "markdown",
   "id": "c70f9de5",
   "metadata": {},
   "source": [
    "3. Expository Data analysis: At the stage, I will be making some more indepth analysis using the infomation provided in this dataset to find answers to the questions asked above."
   ]
  },
  {
   "cell_type": "markdown",
   "id": "9066cad4",
   "metadata": {},
   "source": [
    "Let us try to find out the number of patients that showed up for their medical appointment who are enrolled in the Brazillian welfar program. This information will help know if being on a scholarship will in anyway contribute to whether or not a patient shows up for their medical appointment."
   ]
  },
  {
   "cell_type": "markdown",
   "id": "1c873cae",
   "metadata": {},
   "source": [
    "How many patients are on scholarship"
   ]
  },
  {
   "cell_type": "code",
   "execution_count": 228,
   "id": "cafbe209",
   "metadata": {},
   "outputs": [
    {
     "data": {
      "text/plain": [
       "0    99666\n",
       "1    10861\n",
       "Name: Scholarship, dtype: int64"
      ]
     },
     "execution_count": 228,
     "metadata": {},
     "output_type": "execute_result"
    }
   ],
   "source": [
    "# Bar chart showing students on scholarship who showed up\n",
    "# for their appointments\n",
    "\n",
    "df_patient['Scholarship'].value_counts()"
   ]
  },
  {
   "cell_type": "code",
   "execution_count": 294,
   "id": "bb01ae54",
   "metadata": {
    "scrolled": true
   },
   "outputs": [
    {
     "data": {
      "image/png": "[encoded data removed]",
      "text/plain": [
       "<Figure size 432x288 with 1 Axes>"
      ]
     },
     "metadata": {
      "needs_background": "light"
     },
     "output_type": "display_data"
    }
   ],
   "source": [
    "# A Bar Chart showing the number of patients on scholarship who showed up for their appointment\n",
    "\n",
    "df_patient['Scholarship'].value_counts().plot(kind = 'bar', title = 'Patients on Scholarship', xlabel = 'No-show', ylabel = 'Number of patients', color = 'green');"
   ]
  },
  {
   "cell_type": "markdown",
   "id": "3c14d55a",
   "metadata": {},
   "source": [
    "This bar chart shows a comparison between the number of patients on scholarship who showed up for their appointments and those that did not show up"
   ]
  },
  {
   "cell_type": "markdown",
   "id": "8c4808a9",
   "metadata": {},
   "source": [
    "Exploring the data set to see if being handicapped affected patients showing up for their appoitment."
   ]
  },
  {
   "cell_type": "code",
   "execution_count": 230,
   "id": "3fcf1a1b",
   "metadata": {},
   "outputs": [
    {
     "data": {
      "text/plain": [
       "count    110527.000000\n",
       "mean          0.022248\n",
       "std           0.161543\n",
       "min           0.000000\n",
       "25%           0.000000\n",
       "50%           0.000000\n",
       "75%           0.000000\n",
       "max           4.000000\n",
       "Name: Handicaped, dtype: float64"
      ]
     },
     "execution_count": 230,
     "metadata": {},
     "output_type": "execute_result"
    }
   ],
   "source": [
    "#getting an overview of the Handicaped Data\n",
    "df_patient['Handicaped'].describe()"
   ]
  },
  {
   "cell_type": "code",
   "execution_count": 231,
   "id": "2d0d7f3b",
   "metadata": {
    "scrolled": true
   },
   "outputs": [
    {
     "data": {
      "text/html": [
       "<div>\n",
       "<style scoped>\n",
       "    .dataframe tbody tr th:only-of-type {\n",
       "        vertical-align: middle;\n",
       "    }\n",
       "\n",
       "    .dataframe tbody tr th {\n",
       "        vertical-align: top;\n",
       "    }\n",
       "\n",
       "    .dataframe thead th {\n",
       "        text-align: right;\n",
       "    }\n",
       "</style>\n",
       "<table border=\"1\" class=\"dataframe\">\n",
       "  <thead>\n",
       "    <tr style=\"text-align: right;\">\n",
       "      <th></th>\n",
       "      <th>PatientId</th>\n",
       "      <th>AppointmentID</th>\n",
       "      <th>Gender</th>\n",
       "      <th>ScheduledDay</th>\n",
       "      <th>AppointmentDay</th>\n",
       "      <th>Age</th>\n",
       "      <th>Neighbourhood</th>\n",
       "      <th>Scholarship</th>\n",
       "      <th>Hipertension</th>\n",
       "      <th>Diabetes</th>\n",
       "      <th>Alcoholism</th>\n",
       "      <th>Handicaped</th>\n",
       "      <th>SMS_received</th>\n",
       "      <th>No-show</th>\n",
       "    </tr>\n",
       "  </thead>\n",
       "  <tbody>\n",
       "  </tbody>\n",
       "</table>\n",
       "</div>"
      ],
      "text/plain": [
       "Empty DataFrame\n",
       "Columns: [PatientId, AppointmentID, Gender, ScheduledDay, AppointmentDay, Age, Neighbourhood, Scholarship, Hipertension, Diabetes, Alcoholism, Handicaped, SMS_received, No-show]\n",
       "Index: []"
      ]
     },
     "execution_count": 231,
     "metadata": {},
     "output_type": "execute_result"
    }
   ],
   "source": [
    "# Making sure I have the appropriate datatyp\n",
    "df_patient[df_patient['Handicaped']=='3']"
   ]
  },
  {
   "cell_type": "code",
   "execution_count": 292,
   "id": "02d65421",
   "metadata": {
    "scrolled": false
   },
   "outputs": [
    {
     "data": {
      "image/png": "[encoded data removed]",
      "text/plain": [
       "<Figure size 432x288 with 1 Axes>"
      ]
     },
     "metadata": {
      "needs_background": "light"
     },
     "output_type": "display_data"
    }
   ],
   "source": [
    "# A bar chart showing number of handicapped patients that showed up for their appointment\n",
    "\n",
    "df_patient['Handicaped'].value_counts().plot(kind = 'bar', color ='red', xlabel = 'No-Show', ylabel='Patient count', title= 'Handicapped Vs non-handicapped patients who attended their appoitments');"
   ]
  },
  {
   "cell_type": "markdown",
   "id": "556b258a",
   "metadata": {},
   "source": [
    "The bar chart compares between handicapped and non handicapped Patients who attended their medical appoitments. And it can be seen that the handicapped patients showed up the most."
   ]
  },
  {
   "cell_type": "code",
   "execution_count": 233,
   "id": "c17e08cc",
   "metadata": {},
   "outputs": [
    {
     "data": {
      "image/png": "[encoded data removed]",
      "text/plain": [
       "<Figure size 432x288 with 1 Axes>"
      ]
     },
     "metadata": {},
     "output_type": "display_data"
    }
   ],
   "source": [
    "# a pie chart showing the percentage of patients who showed up and those that did not show up for their appoitments \n",
    "# depending on if or not they recieved an sms reminder\n",
    "Pie_chart_plot_1();"
   ]
  },
  {
   "cell_type": "markdown",
   "id": "3ca0acf9",
   "metadata": {},
   "source": [
    "This pie chart shows the percentage of patients who received sms reminders that showed up for their appoitments"
   ]
  },
  {
   "cell_type": "code",
   "execution_count": 279,
   "id": "cff11db9",
   "metadata": {
    "scrolled": true
   },
   "outputs": [
    {
     "data": {
      "text/plain": [
       "0         62\n",
       "1         56\n",
       "2         62\n",
       "3          8\n",
       "4         56\n",
       "          ..\n",
       "110522    56\n",
       "110523    51\n",
       "110524    21\n",
       "110525    38\n",
       "110526    54\n",
       "Name: Age, Length: 110527, dtype: int64"
      ]
     },
     "execution_count": 279,
     "metadata": {},
     "output_type": "execute_result"
    }
   ],
   "source": [
    "# viewing the Age column in the patient database\n",
    "df_patient['Age']"
   ]
  },
  {
   "cell_type": "code",
   "execution_count": 280,
   "id": "01d06bd5",
   "metadata": {},
   "outputs": [
    {
     "data": {
      "text/plain": [
       "Age  No-show\n",
       "0    No         2900\n",
       "     Yes         639\n",
       "1    No         1859\n",
       "     Yes         415\n",
       "2    No         1366\n",
       "                ... \n",
       "99   No            1\n",
       "100  No            4\n",
       "102  No            2\n",
       "115  No            2\n",
       "     Yes           3\n",
       "Name: COUNTER, Length: 203, dtype: int64"
      ]
     },
     "execution_count": 280,
     "metadata": {},
     "output_type": "execute_result"
    }
   ],
   "source": [
    "# making a count of patients who showed up and those that did not show up based on their ages.\n",
    "df_patient['COUNTER'] =1       \n",
    "group_age = df_patient.groupby(['Age','No-show'])['COUNTER'].sum() \n",
    "group_age"
   ]
  },
  {
   "cell_type": "code",
   "execution_count": 282,
   "id": "2ae8496a",
   "metadata": {},
   "outputs": [],
   "source": [
    "modal_age = group_age.nlargest()"
   ]
  },
  {
   "cell_type": "code",
   "execution_count": 283,
   "id": "4b7859f9",
   "metadata": {},
   "outputs": [
    {
     "data": {
      "text/plain": [
       "Age  No-show\n",
       "0    No         2900\n",
       "1    No         1859\n",
       "52   No         1449\n",
       "56   No         1372\n",
       "2    No         1366\n",
       "Name: COUNTER, dtype: int64"
      ]
     },
     "execution_count": 283,
     "metadata": {},
     "output_type": "execute_result"
    }
   ],
   "source": [
    "modal_age"
   ]
  },
  {
   "cell_type": "code",
   "execution_count": 284,
   "id": "43996424",
   "metadata": {},
   "outputs": [
    {
     "data": {
      "image/png": "[encoded data removed]",
      "text/plain": [
       "<Figure size 432x288 with 1 Axes>"
      ]
     },
     "metadata": {
      "needs_background": "light"
     },
     "output_type": "display_data"
    }
   ],
   "source": [
    "modal_age.plot(kind = 'bar', title = 'Modal Age of Patients that showed up', xlabel = 'Age', ylabel='Number of Patients', color = 'yellow');"
   ]
  },
  {
   "cell_type": "markdown",
   "id": "d1490930",
   "metadata": {},
   "source": [
    "This Bar chart shows the Modal age of patients that showed up for their medical appoitments."
   ]
  },
  {
   "cell_type": "code",
   "execution_count": 290,
   "id": "8cf94d23",
   "metadata": {},
   "outputs": [],
   "source": [
    "least_age = group_age.nsmallest()"
   ]
  },
  {
   "cell_type": "markdown",
   "id": "42ced2bf",
   "metadata": {},
   "source": [
    "It is impossible to have an Age of -1, so we assume it was an entry error. We will therefore change this entry to 1 as seen below:"
   ]
  },
  {
   "cell_type": "code",
   "execution_count": 286,
   "id": "e725d532",
   "metadata": {},
   "outputs": [],
   "source": [
    "# changing the single negative age entry to a positive one\n",
    "df_patient['Age'] = df_patient['Age'].replace([-1], 1)"
   ]
  },
  {
   "cell_type": "code",
   "execution_count": 287,
   "id": "56422ba1",
   "metadata": {},
   "outputs": [],
   "source": [
    "# Finding out how many negative entries there are for age\n",
    "\n",
    "negative_age = df_patient[df_patient==-1]"
   ]
  },
  {
   "cell_type": "code",
   "execution_count": 288,
   "id": "0227eb64",
   "metadata": {},
   "outputs": [
    {
     "data": {
      "text/plain": [
       "PatientId         0\n",
       "AppointmentID     0\n",
       "Gender            0\n",
       "ScheduledDay      0\n",
       "AppointmentDay    0\n",
       "Age               0\n",
       "Neighbourhood     0\n",
       "Scholarship       0\n",
       "Hipertension      0\n",
       "Diabetes          0\n",
       "Alcoholism        0\n",
       "Handicaped        0\n",
       "SMS_received      0\n",
       "No-show           0\n",
       "COUNTER           0\n",
       "dtype: int64"
      ]
     },
     "execution_count": 288,
     "metadata": {},
     "output_type": "execute_result"
    }
   ],
   "source": [
    "negative_age.count()"
   ]
  },
  {
   "cell_type": "code",
   "execution_count": 289,
   "id": "4c07e2ec",
   "metadata": {},
   "outputs": [
    {
     "data": {
      "text/plain": [
       "Age  No-show\n",
       "96   Yes        1\n",
       "98   Yes        1\n",
       "99   No         1\n",
       "97   Yes        2\n",
       "102  No         2\n",
       "Name: COUNTER, dtype: int64"
      ]
     },
     "execution_count": 289,
     "metadata": {},
     "output_type": "execute_result"
    }
   ],
   "source": [
    "\n",
    "least_age"
   ]
  },
  {
   "cell_type": "code",
   "execution_count": 249,
   "id": "4c997c73",
   "metadata": {},
   "outputs": [],
   "source": [
    "# confirming the change of the negative value into a positive value\n",
    "\n",
    "\n",
    "positive_value = df_patient[df_patient==-1]\n"
   ]
  },
  {
   "cell_type": "code",
   "execution_count": 250,
   "id": "370d6fc4",
   "metadata": {},
   "outputs": [
    {
     "data": {
      "text/plain": [
       "PatientId         0\n",
       "AppointmentID     0\n",
       "Gender            0\n",
       "ScheduledDay      0\n",
       "AppointmentDay    0\n",
       "Age               0\n",
       "Neighbourhood     0\n",
       "Scholarship       0\n",
       "Hipertension      0\n",
       "Diabetes          0\n",
       "Alcoholism        0\n",
       "Handicaped        0\n",
       "SMS_received      0\n",
       "No-show           0\n",
       "COUNTER           0\n",
       "dtype: int64"
      ]
     },
     "execution_count": 250,
     "metadata": {},
     "output_type": "execute_result"
    }
   ],
   "source": [
    "positive_value.count()"
   ]
  },
  {
   "cell_type": "code",
   "execution_count": null,
   "id": "ad037372",
   "metadata": {},
   "outputs": [],
   "source": [
    "# the negative value in the age column has been handled"
   ]
  },
  {
   "cell_type": "code",
   "execution_count": 163,
   "id": "1c2dbb47",
   "metadata": {},
   "outputs": [
    {
     "data": {
      "text/plain": [
       "PatientId         11\n",
       "AppointmentID     11\n",
       "Gender            11\n",
       "ScheduledDay      11\n",
       "AppointmentDay    11\n",
       "Age               11\n",
       "Neighbourhood     11\n",
       "Scholarship       11\n",
       "Hipertension      11\n",
       "Diabetes          11\n",
       "Alcoholism        11\n",
       "Handicaped        11\n",
       "SMS_received      11\n",
       "No-show           11\n",
       "COUNTER           11\n",
       "dtype: int64"
      ]
     },
     "execution_count": 163,
     "metadata": {},
     "output_type": "execute_result"
    }
   ],
   "source": [
    "aged_patients"
   ]
  },
  {
   "cell_type": "markdown",
   "id": "4894a1ce",
   "metadata": {},
   "source": [
    "least_age.plot(kind = 'bar', title = 'Least age that showed up', xlabel = 'Age', ylabel='Number of Patients', color = 'pink');"
   ]
  },
  {
   "cell_type": "code",
   "execution_count": 45,
   "id": "3077678d",
   "metadata": {
    "scrolled": true
   },
   "outputs": [
    {
     "data": {
      "text/plain": [
       "Neighbourhood    No-show\n",
       "JARDIM CAMBURI   No         6252\n",
       "MARIA ORTIZ      No         4586\n",
       "RESISTÊNCIA      No         3525\n",
       "JARDIM DA PENHA  No         3246\n",
       "SANTA MARTHA     No         2635\n",
       "Name: COUNTER, dtype: int64"
      ]
     },
     "execution_count": 45,
     "metadata": {},
     "output_type": "execute_result"
    }
   ],
   "source": [
    "# making a count of patients who showed up and those who did not show up based on the location they live in filtered by the\n",
    "# mode\n",
    "countin = df_patient['COUNTER'] =1       \n",
    "group_neighbour_largest = df_patient.groupby(['Neighbourhood','No-show'])['COUNTER'].sum() .nlargest()\n",
    "group_neighbour_largest"
   ]
  },
  {
   "cell_type": "code",
   "execution_count": 97,
   "id": "7524ee11",
   "metadata": {},
   "outputs": [
    {
     "data": {
      "image/png": "[encoded data removed]",
      "text/plain": [
       "<Figure size 432x288 with 1 Axes>"
      ]
     },
     "metadata": {},
     "output_type": "display_data"
    }
   ],
   "source": [
    "# pie chart showing the percentage of patients that showed up and those that did not show up based on their locations.\n",
    "\n",
    "Pie_chart_plot_2();\n"
   ]
  },
  {
   "cell_type": "markdown",
   "id": "24ca28e7",
   "metadata": {},
   "source": [
    "This pie chart shows the Locations from which patients showed up the most for their appointments."
   ]
  },
  {
   "cell_type": "code",
   "execution_count": 47,
   "id": "f03daf68",
   "metadata": {},
   "outputs": [
    {
     "data": {
      "text/plain": [
       "Neighbourhood                No-show\n",
       "AEROPORTO                    Yes        1\n",
       "PARQUE INDUSTRIAL            No         1\n",
       "ILHA DO FRADE                Yes        2\n",
       "ILHAS OCEÂNICAS DE TRINDADE  Yes        2\n",
       "ILHA DO BOI                  Yes        3\n",
       "Name: COUNTER, dtype: int64"
      ]
     },
     "execution_count": 47,
     "metadata": {},
     "output_type": "execute_result"
    }
   ],
   "source": [
    "# making a count of patients who showed up and those who did not show up based on the location they live in filtered by the\n",
    "# least - show ups\n",
    "\n",
    "countin = df_patient['COUNTER'] =1       \n",
    "group_neighbour_lowest = df_patient.groupby(['Neighbourhood','No-show'])['COUNTER'].sum() .nsmallest()\n",
    "group_neighbour_lowest"
   ]
  },
  {
   "cell_type": "code",
   "execution_count": 99,
   "id": "47ac7a6e",
   "metadata": {},
   "outputs": [
    {
     "data": {
      "image/png": "[encoded data removed]",
      "text/plain": [
       "<Figure size 432x288 with 1 Axes>"
      ]
     },
     "metadata": {},
     "output_type": "display_data"
    }
   ],
   "source": [
    "# Pie chart showing the Locations in which patients least showed up for their medical appointments\n",
    "\n",
    "Pie_chart_plot_3();"
   ]
  },
  {
   "cell_type": "markdown",
   "id": "989f3919",
   "metadata": {},
   "source": [
    "This pie chart shows the Locations from which patients least showed up for thier appoitments."
   ]
  },
  {
   "cell_type": "code",
   "execution_count": 50,
   "id": "4952be35",
   "metadata": {},
   "outputs": [],
   "source": [
    "# converting the data type of the ScheduledDay column to date/time\n",
    "\n",
    "df_patient['ScheduledDay']= pd.to_datetime(df_patient['ScheduledDay'])"
   ]
  },
  {
   "cell_type": "code",
   "execution_count": 51,
   "id": "dbd75f38",
   "metadata": {},
   "outputs": [
    {
     "name": "stdout",
     "output_type": "stream",
     "text": [
      "<class 'pandas.core.frame.DataFrame'>\n",
      "RangeIndex: 110527 entries, 0 to 110526\n",
      "Data columns (total 15 columns):\n",
      " #   Column          Non-Null Count   Dtype              \n",
      "---  ------          --------------   -----              \n",
      " 0   PatientId       110527 non-null  float64            \n",
      " 1   AppointmentID   110527 non-null  int64              \n",
      " 2   Gender          110527 non-null  object             \n",
      " 3   ScheduledDay    110527 non-null  datetime64[ns, UTC]\n",
      " 4   AppointmentDay  110527 non-null  object             \n",
      " 5   Age             110527 non-null  int64              \n",
      " 6   Neighbourhood   110527 non-null  object             \n",
      " 7   Scholarship     110527 non-null  int64              \n",
      " 8   Hipertension    110527 non-null  int64              \n",
      " 9   Diabetes        110527 non-null  int64              \n",
      " 10  Alcoholism      110527 non-null  int64              \n",
      " 11  Handicaped      110527 non-null  int64              \n",
      " 12  SMS_received    110527 non-null  int64              \n",
      " 13  No-show         110527 non-null  object             \n",
      " 14  COUNTER         110527 non-null  int64              \n",
      "dtypes: datetime64[ns, UTC](1), float64(1), int64(9), object(4)\n",
      "memory usage: 12.6+ MB\n"
     ]
    }
   ],
   "source": [
    "#verifying that the data type of the date/time column is correct\n",
    "\n",
    "df_patient.info()"
   ]
  },
  {
   "cell_type": "code",
   "execution_count": 179,
   "id": "f0be6ad1",
   "metadata": {},
   "outputs": [
    {
     "data": {
      "text/plain": [
       "ScheduledDay               No-show\n",
       "2016-04-25 17:17:46+00:00  Yes        21\n",
       "2016-04-25 17:18:27+00:00  Yes        20\n",
       "2016-04-25 17:17:23+00:00  Yes        16\n",
       "2016-05-06 07:09:53+00:00  Yes        16\n",
       "2016-05-06 07:09:54+00:00  Yes        15\n",
       "Name: COUNTER, dtype: int64"
      ]
     },
     "execution_count": 179,
     "metadata": {},
     "output_type": "execute_result"
    }
   ],
   "source": [
    "# what day had the highest number of patients that did not show up for their appointments\n",
    "\n",
    "day_count = df_patient['COUNTER'] =1       \n",
    "weekday_group = df_patient.groupby(['ScheduledDay','No-show'])['COUNTER'].sum().nlargest()\n",
    "weekday_group"
   ]
  },
  {
   "cell_type": "code",
   "execution_count": 291,
   "id": "2327d30e",
   "metadata": {},
   "outputs": [
    {
     "data": {
      "image/png": "[encoded data removed]",
      "text/plain": [
       "<Figure size 432x288 with 1 Axes>"
      ]
     },
     "metadata": {
      "needs_background": "light"
     },
     "output_type": "display_data"
    }
   ],
   "source": [
    "weekday_group.plot(kind = 'bar', color = 'tan', ylabel='count of missed Schedules', title = 'Day with the Highest Attendance');"
   ]
  },
  {
   "cell_type": "markdown",
   "id": "b9da1e61",
   "metadata": {},
   "source": [
    "This  bar chart shows the day of the week with the highest medical appointment attendace."
   ]
  },
  {
   "cell_type": "code",
   "execution_count": 189,
   "id": "e31dcdb3",
   "metadata": {},
   "outputs": [
    {
     "data": {
      "text/plain": [
       "ScheduledDay               No-show\n",
       "2015-11-10 07:13:56+00:00  No         1\n",
       "2015-12-03 08:17:28+00:00  Yes        1\n",
       "2015-12-07 10:40:59+00:00  Yes        1\n",
       "2015-12-07 10:42:42+00:00  No         1\n",
       "2015-12-07 10:43:01+00:00  No         1\n",
       "Name: COUNTER, dtype: int64"
      ]
     },
     "execution_count": 189,
     "metadata": {},
     "output_type": "execute_result"
    }
   ],
   "source": [
    "# what day had the least number of patients that did not show up for their appointments\n",
    "\n",
    "day_count = df_patient['COUNTER'] =1       \n",
    "weekday_group_least = df_patient.groupby(['ScheduledDay','No-show'])['COUNTER'].sum().nsmallest()\n",
    "weekday_group_least"
   ]
  },
  {
   "cell_type": "code",
   "execution_count": 194,
   "id": "e00c8d6b",
   "metadata": {},
   "outputs": [
    {
     "data": {
      "image/png": "[encoded data removed]",
      "text/plain": [
       "<Figure size 432x288 with 1 Axes>"
      ]
     },
     "metadata": {},
     "output_type": "display_data"
    }
   ],
   "source": [
    "weekday_group_least.plot(kind='pie', title='Day with Least Appoitment Attendance');"
   ]
  },
  {
   "cell_type": "markdown",
   "id": "d5410e29",
   "metadata": {},
   "source": [
    "This pie chart helps to show what day of the week had the least appoitment attendace."
   ]
  },
  {
   "cell_type": "markdown",
   "id": "e1a886ba",
   "metadata": {},
   "source": [
    "4. Conclusions: After going through the stages of data analysis for the Patient Medical Record Database, I made the following findings:"
   ]
  },
  {
   "cell_type": "markdown",
   "id": "c7fca656",
   "metadata": {},
   "source": [
    "1. 99666 patients on Scholarship showed up for their appointment. This shows that a student enrolled in the Brazillian welfer program is likely going to show up for their medical appointment."
   ]
  },
  {
   "cell_type": "markdown",
   "id": "e4d3304a",
   "metadata": {},
   "source": [
    "2. Being handicapped does not affect whether or not a patient shows up for their appointment as there are a total of 108286 handicapped patients who still showed up accordingly for their appointments."
   ]
  },
  {
   "cell_type": "markdown",
   "id": "f0100048",
   "metadata": {},
   "source": [
    "3. It is important for the Hospital to send out SMS reminders to patients about their appointment days because 68% of patients that recieved SMS notification showed up for their appoitments."
   ]
  },
  {
   "cell_type": "markdown",
   "id": "53330cf0",
   "metadata": {},
   "source": [
    "4a. Infancts between ages 0 and 1 showed up the most for their appoitments."
   ]
  },
  {
   "cell_type": "markdown",
   "id": "4cdd2af3",
   "metadata": {},
   "source": [
    "4b. The patients of ages 96-99 showed up the least for their appointments."
   ]
  },
  {
   "cell_type": "markdown",
   "id": "3c3ec3e9",
   "metadata": {},
   "source": [
    "5a. From this analysis, it was seen that 31% of Patients from Jardim Cambur Location showed up for their appointment. This is the neighborhood from which the most patients showed up."
   ]
  },
  {
   "cell_type": "markdown",
   "id": "e25fe12f",
   "metadata": {},
   "source": [
    "5b. It is also seen from this analysis that 11% of the patients that showed up are from Parque Industrial location. The least number of patients showed up from this location."
   ]
  },
  {
   "cell_type": "markdown",
   "id": "747d46b2",
   "metadata": {},
   "source": [
    "6a. The most number of missed appoitments happened on 2016-04-25 17:17:46+00:00."
   ]
  },
  {
   "cell_type": "markdown",
   "id": "1c127e4d",
   "metadata": {},
   "source": [
    "6b. The least number of missed appoitments happened on 2015-12-03 08:17:28+00:00."
   ]
  },
  {
   "cell_type": "markdown",
   "id": "b43ff442",
   "metadata": {},
   "source": [
    "# Limitation of the Dataset\n",
    "In conclusion, this dataset failed to state if the Hospital has just one location or if it has multiple locations. If this infomation was provided, reasonable conclusions will be drawn as to why patients from Jardim Cambur neighborhood showed up the most for their appointments."
   ]
  },
  {
   "cell_type": "code",
   "execution_count": null,
   "id": "44ceedfd",
   "metadata": {},
   "outputs": [],
   "source": []
  }
 ],
 "metadata": {
  "kernelspec": {
   "display_name": "Python 3 (ipykernel)",
   "language": "python",
   "name": "python3"
  },
  "language_info": {
   "codemirror_mode": {
    "name": "ipython",
    "version": 3
   },
   "file_extension": ".py",
   "mimetype": "text/x-python",
   "name": "python",
   "nbconvert_exporter": "python",
   "pygments_lexer": "ipython3",
   "version": "3.9.12"
  }
 },
 "nbformat": 4,
 "nbformat_minor": 5
}
